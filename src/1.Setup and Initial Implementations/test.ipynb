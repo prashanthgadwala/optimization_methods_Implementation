{
 "cells": [
  {
   "cell_type": "code",
   "execution_count": 9,
   "metadata": {},
   "outputs": [
    {
     "name": "stdout",
     "output_type": "stream",
     "text": [
      "Start LLTSolver...\n",
      "L[ 0 0 ]= 1\n",
      "s[ 0 ]= 1\n",
      "s[ 1 ]= 0\n",
      "L[ 1 1 ]= 3\n",
      "s[ 1 ]= 0\n",
      "s[ 2 ]= -1\n",
      "s[ 2 ]= -1\n",
      "L[ 2 2 ]= 6\n",
      "s[ 2 ]= -1\n",
      "LLTSolver terminated with residual:\n",
      "[[0]\n",
      " [0]\n",
      " [1]]\n"
     ]
    },
    {
     "data": {
      "text/plain": [
       "array([[1],\n",
       "       [0],\n",
       "       [0]])"
      ]
     },
     "execution_count": 9,
     "metadata": {},
     "output_type": "execute_result"
    }
   ],
   "source": [
    "import numpy as np\n",
    "\n",
    "def LLTSolver(L: np.array, r: np.array, verbose=0):\n",
    "\n",
    "    if verbose:\n",
    "        print('Start LLTSolver...')\n",
    "\n",
    "    n = np.size(r)\n",
    "    s = r.copy()\n",
    "    for i in range(n):\n",
    "        for j in range(i):\n",
    "            s[i, 0] = s[i, 0] - L[i, j] * s[j, 0]\n",
    "            print('s[', i, ']=', s[i, 0])\n",
    "\n",
    "        if L[i, i] == 0:\n",
    "            raise Exception('Zero diagonal element detected...')\n",
    "\n",
    "        print('L[', i, i, ']=', L[i, i])\n",
    "        print('s[', i, ']=', s[i, 0])\n",
    "        s[i, 0] = s[i, 0] / L[i, i]\n",
    "\n",
    "\n",
    "    y = s\n",
    "\n",
    "    for i in range(n-1, -1, -1):\n",
    "        for j in range(n-1, i, -1):\n",
    "            y[i, 0] = y[i, 0] - L[j, i] * y[j, 0]\n",
    "\n",
    "        y[i, 0] = y[i, 0] / L[i, i]\n",
    "\n",
    "    if verbose:\n",
    "        residual = (L@L.T)@y-r\n",
    "        print('LLTSolver terminated with residual:')\n",
    "        print(residual)\n",
    "    return y\n",
    "\n",
    "L = np.array([[1, 0, 0], [2, 3, 0], [4, 5, 6]])\n",
    "r = np.array([1, 2, 3]).reshape(-1, 1)\n",
    "LLTSolver(L,r,verbose=1)"
   ]
  }
 ],
 "metadata": {
  "kernelspec": {
   "display_name": "Python 3",
   "language": "python",
   "name": "python3"
  },
  "language_info": {
   "codemirror_mode": {
    "name": "ipython",
    "version": 3
   },
   "file_extension": ".py",
   "mimetype": "text/x-python",
   "name": "python",
   "nbconvert_exporter": "python",
   "pygments_lexer": "ipython3",
   "version": "3.12.8"
  }
 },
 "nbformat": 4,
 "nbformat_minor": 2
}
